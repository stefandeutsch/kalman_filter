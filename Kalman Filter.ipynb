{
 "cells": [
  {
   "cell_type": "code",
   "execution_count": 14,
   "metadata": {
    "collapsed": false
   },
   "outputs": [
    {
     "name": "stdout",
     "output_type": "stream",
     "text": [
      "Rank of the observability matrix is 3.\n",
      "[1 2 3 4 5 6 7 8 9 10]\n",
      "[1 1 1 1 0 0 0 0 0 1]\n",
      "[11 11 11 12 12 12 12 13 12 11]\n",
      "[20.0 20.0917 20.2174 20.4795 20.8954 21.1292 21.2996 21.362 21.2963 21.215]\n",
      "[20.0 20.0 19.9275 19.7591 19.625 19.6216 19.7008 19.8077 19.8853 19.9558]\n",
      "[20.0 20.0458 20.1203 20.3231 20.6822 20.9608 21.1864 21.3069 21.2891 21.2578]\n",
      "[20 21 23 24 23 22 21 20 20 21]\n",
      "[20.0 20.0 19.9275 19.7591 19.625 19.6216 19.7008 19.8077 19.8853 19.9558]\n",
      "[21.5 21.575 21.6844 21.9287 22.3243 22.5347 22.6784 22.7114 22.6147 22.5022]\n",
      "[18.5 18.6083 18.7505 19.0303 19.4664 19.7237 19.9208 20.0127 19.978 19.9279]\n",
      "[21.5 21.5625 21.6526 21.8685 22.2365 22.5189 22.7425 22.8558 22.8264 22.7806]\n",
      "[18.5 18.5292 18.588 18.7778 19.128 19.4027 19.6302 19.758 19.7519 19.735]\n",
      "[0.0 -1.0 -3.0725 -4.24094 -3.37504 -2.37842 -1.29917 -0.192313 -0.114713 -1.04423]\n"
     ]
    }
   ],
   "source": [
    "# Computational Methods\n",
    "# Term Project: Kalman Filters for Energy Systems\n",
    "# Stefan Deutsch, Viv Pitter, Ansel Klein\n",
    "# Prof. Anthoff\n",
    "# Due 5/12/17\n",
    "\n",
    "# Parameters\n",
    "\n",
    "R1A = 5 # Thermal resistance between Room 1 and ambient, deg C/kW\n",
    "R12 = 3 # Thermal resistance between Room 1 and Room 2, deg C/kW\n",
    "R23 = 3 # Thermal resistance between Room 2 and Room 3, deg C/kW\n",
    "R3A = 5 # Thermal resistance between Room 3 and ambient, deg C/kW\n",
    "C1 = 24  # Thermal capacitance of Room 1, kWh/deg C\n",
    "C2 = 15  # Thermal capacitance of Room 2, kWh/deg C\n",
    "C3 = 48  # Thermal capacitance of Room 3, kWh/deg C\n",
    "P = 8  # Thermal power of heater, kW\n",
    "\n",
    "# State space matrices\n",
    "A = [-1/C1*(1/R1A + 1/R12) 1/(C1*R12) 0; 1/(C2*R12) -1/C2*(1/R12 + 1/R23) 1/(C2*R23); 0 1/(C3*R23) -1/C3*(1/R23 + 1/R3A)]\n",
    "B = [1/(C1*R1A) P/(2*C1); 0 0; 1/(C3*R3A) P/(2*C3)]\n",
    "C = [0 1 0]\n",
    "D = [0 0]\n",
    "\n",
    "# Compute observability Matrix for 3-state system and rank\n",
    "O = [C; C*A; C*A^2]\n",
    "r = rank(O)  # could also do this by inspection?\n",
    "println(\"Rank of the observability matrix is $r.\")\n",
    "\n",
    "# Upload data here\n",
    "\n",
    "# t = time series vector\n",
    "t = collect(1:1:10)'\n",
    "# T_A = vector of ambient temperature data\n",
    "T_A = [11 11 11 12 12 12 12 13 12 11]\n",
    "# s = 0 or 1 depending on whether heater is on or off\n",
    "s = [1 1 1 1 0 0 0 0 0 1 ]\n",
    "# T_2 = vector of sensed temperature data in room 2\n",
    "T_2 = [20 21 23 24 23 22 21 20 20 21]\n",
    "\n",
    "# N = covariance of sensor noise\n",
    "\n",
    "u = [T_A; s]  # collect ambient temperature and heater state into input matrix\n",
    "ym = T_2  # temperature of room 2 is state of interest and thus the measured output\n",
    "\n",
    "# x0 = mean initial states (arbitrary)\n",
    "# sig0 = covariance of initial states (arbitrary)\n",
    "\n",
    "# Kalman Filter\n",
    "\n",
    "# Noise covariances\n",
    "W = diagm([.05; .02; .05])  # Covariance of model inaccuracy / process noise  We tune this to our liking.\n",
    "N = 1.5  # just an example right now\n",
    "sig0 = 1.5*eye(3) # just an example right now\n",
    "\n",
    "# Estimated Initial Conditions\n",
    "# x_hat0 = x0\n",
    "x_hat0 = [20; 20; 20]  # just an example right now\n",
    "\n",
    "# Simulate Kalman Filter\n",
    "# original equation was [tsim,states] = ode45(@(t,x) ode_kf(t,x,A,B,C,D,input_data,W,N),t,states0) where 'states' combined x and sigma\n",
    "# i.e. [tsim, xsim, sigsim] = our_ode(kalman(x_hat,sig,A,B,C,D,ym,u,W,N), t, x_hat0, sig0)\n",
    "(x_hat, sig) = Euler(kalman,A,B,C,D,ym,u,W,N,t,x_hat0,sig0)  # using Euler's method right now\n",
    "\n",
    "# Parse States\n",
    "T1_hat = x_hat[1,:]'\n",
    "T2_hat = x_hat[2,:]'\n",
    "T3_hat = x_hat[3,:]'\n",
    "# Compute the upper and lower bounds on T1 and T3\n",
    "bound1 = zeros(length(t))'\n",
    "bound3 = zeros(length(t))'\n",
    "for k in 1:length(t)\n",
    "    bound1[k] = sig[k][1,1]\n",
    "    bound3[k] = sig[k][3,3]\n",
    "end\n",
    "\n",
    "# Plot results\n",
    "println(t)\n",
    "println(s)\n",
    "println(T_A)\n",
    "println(T1_hat)\n",
    "println(T2_hat)\n",
    "println(T3_hat)\n",
    "# Plot true and estimated T2 versus time\n",
    "println(T_2)\n",
    "println(T2_hat)\n",
    "# Plot estimated T1 and T3 plus/minus 1 sigma\n",
    "println(T1_hat+bound1)\n",
    "println(T1_hat-bound1)\n",
    "println(T3_hat+bound3)\n",
    "println(T3_hat-bound3)\n",
    "# Plot error between true and estimated T2\n",
    "println(T2_hat-T_2)\n",
    "\n",
    "# Calculate RMSE between true and estimated T2\n",
    "\n",
    "\n",
    "# Extended Kalman Filter if we so choose\n"
   ]
  },
  {
   "cell_type": "code",
   "execution_count": 13,
   "metadata": {
    "collapsed": false
   },
   "outputs": [
    {
     "name": "stderr",
     "output_type": "stream",
     "text": [
      "WARNING: Method definition kalman(Any, Any, Any, Any, Any, Any, Any, Any, Any, Any) in module Main at In[1]:4 overwritten at In[13]:4.\n"
     ]
    },
    {
     "data": {
      "text/plain": [
       "kalman (generic function with 1 method)"
      ]
     },
     "execution_count": 13,
     "metadata": {},
     "output_type": "execute_result"
    }
   ],
   "source": [
    "function kalman(x_hat,sig,A,B,C,D,ym,u,W,N)  # kalman filter for a general system\n",
    "\n",
    "    # Compute Kalman Gain\n",
    "    L = sig*C'*inv(N)\n",
    "\n",
    "    # Kalman Filter equations\n",
    "    y_hat = C*x_hat + D*u\n",
    "    x_hat_dot =  A*x_hat + B*u + L*(ym - y_hat)\n",
    "\n",
    "    # Riccati Equation for Sigma\n",
    "    sig_dot = sig*A' + A*sig + W - sig*C'*inv(N)*C*sig\n",
    "\n",
    "    # Return values\n",
    "    return x_hat_dot, sig_dot\n",
    "end"
   ]
  },
  {
   "cell_type": "code",
   "execution_count": 12,
   "metadata": {
    "collapsed": false
   },
   "outputs": [
    {
     "name": "stderr",
     "output_type": "stream",
     "text": [
      "WARNING: Method definition Euler(Any, Any, Any, Any, Any, Any, Any, Any, Any, Any, Any, Any) in module Main at In[5]:2 overwritten at In[12]:2.\n"
     ]
    },
    {
     "data": {
      "text/plain": [
       "Euler (generic function with 1 method)"
      ]
     },
     "execution_count": 12,
     "metadata": {},
     "output_type": "execute_result"
    }
   ],
   "source": [
    "function Euler(kf,A,B,C,D,ym,u,W,N,t,x_hat0,sig0)  # Euler's method ODE solver for our system\n",
    "    h = 1  # step size\n",
    "    x_hat = zeros(3,length(t))  # vector of corresponding state values\n",
    "    sig = fill(zeros(3,3), 1, length(t))  # sigma is a vector of 3 by 3 matrices\n",
    "    x_hat[:,1] = x_hat0  # initial values\n",
    "    sig[1] = sig0\n",
    "    for i in 2:length(t)  # euler's method\n",
    "        (x_hat_dot, sig_dot) = kf(x_hat[:,i-1],sig[i-1],A,B,C,D,ym[i-1],u[:,i-1],W,N)  # dx/dt from kalman filter eqn\n",
    "        x_hat[:,i] = x_hat[:,i-1] + h*x_hat_dot  # increment states and sigma values\n",
    "        sig[i] = sig[i-1] + h*sig_dot\n",
    "    end\n",
    "    return x_hat, sig\n",
    "end"
   ]
  },
  {
   "cell_type": "code",
   "execution_count": null,
   "metadata": {
    "collapsed": false
   },
   "outputs": [],
   "source": []
  },
  {
   "cell_type": "code",
   "execution_count": null,
   "metadata": {
    "collapsed": false
   },
   "outputs": [],
   "source": []
  },
  {
   "cell_type": "code",
   "execution_count": null,
   "metadata": {
    "collapsed": false
   },
   "outputs": [],
   "source": []
  },
  {
   "cell_type": "code",
   "execution_count": null,
   "metadata": {
    "collapsed": false
   },
   "outputs": [],
   "source": []
  },
  {
   "cell_type": "code",
   "execution_count": null,
   "metadata": {
    "collapsed": false
   },
   "outputs": [],
   "source": []
  },
  {
   "cell_type": "code",
   "execution_count": null,
   "metadata": {
    "collapsed": true
   },
   "outputs": [],
   "source": []
  }
 ],
 "metadata": {
  "kernelspec": {
   "display_name": "Julia 0.5.1",
   "language": "julia",
   "name": "julia-0.5"
  },
  "language_info": {
   "file_extension": ".jl",
   "mimetype": "application/julia",
   "name": "julia",
   "version": "0.5.1"
  }
 },
 "nbformat": 4,
 "nbformat_minor": 1
}
