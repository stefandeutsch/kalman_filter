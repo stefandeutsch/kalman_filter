{
 "cells": [
  {
   "cell_type": "code",
   "execution_count": 98,
   "metadata": {
    "collapsed": false,
    "scrolled": true
   },
   "outputs": [
    {
     "name": "stdout",
     "output_type": "stream",
     "text": [
      "Rank of the observability matrix is 3.\n",
      "time series vector: [1 2 3 4 5 6 7 8 9 10 11 12 13 14 15 16 17 18 19 20 21 22 23 24 25 26 27 28 29 30 31 32 33 34 35 36 37 38 39 40 41 42 43 44 45 46 47 48 49 50 51 52 53 54 55 56 57 58 59 60 61 62 63 64 65 66 67 68 69 70 71 72]\n",
      "heater setting: [1 1 1 1 1 1 1 1 1 1 0 0 0 0 0 0 0 0 0 0 1 1 1 1 1 1 1 1 1 1 1 1 1 1 0 0 0 0 0 0 0 0 0 1 1 1 1 1 1 1 1 1 1 1 1 1 1 1 0 0 0 0 0 0 0 0 0 0 0 0 0 0]\n",
      "ambient temperature data: [70.0 73.0 75.0 78.0 79.0 81.0 85.0 79.0 75.0 70.0 67.0 65.0 63.0 56.0 55.0 55.0 57.0 58.0 58.0 58.0 58.0 60.0 61.0 62.0 63.0 66.0 69.0 69.0 74.0 74.0 74.0 75.0 71.0 66.0 63.0 61.0 60.0 53.0 54.0 54.0 54.0 54.0 54.0 55.0 57.0 58.0 60.0 61.0 63.0 68.0 71.0 71.0 73.0 77.0 79.0 78.0 75.0 74.0 75.0 69.0 67.0 62.0 57.0 59.0 61.0 62.0 62.0 63.0 62.0 61.0 62.0 63.0]\n",
      "room 1 estimated temperature: [20.0 21.2238 22.8268 24.5993 26.506 28.4974 30.5061 32.5124 34.3333 35.9278 37.4098 38.6958 39.9626 41.1828 42.299 43.3665 44.3799 45.3627 46.2855 47.1503 47.9578 49.0938 50.197 51.25 52.2635 53.2644 54.2923 55.4262 56.5334 57.6791 58.8582 59.6217 60.3618 60.8662 61.3211 61.5936 61.7745 61.9184 61.9862 62.054 62.1357 62.2001 62.1906 62.0505 62.1825 62.543 62.9061 63.2582 63.607 63.9609 64.3305 64.7491 65.1878 65.6182 66.0164 66.3505 66.6652 66.9582 67.2314 67.4538 67.4296 67.2888 67.0793 66.8118 66.5604 66.3114 66.0782 65.8449 65.6334 65.4257 65.2071 65.0355]\n",
      "room 2 estimated temperature: [20.0 36.6324 47.5624 52.5289 55.3683 57.1766 58.299 58.9936 59.2899 59.2501 59.1348 59.0562 59.0255 59.0195 59.0254 59.0523 59.0863 59.1359 59.1763 59.2172 59.256 59.5523 59.8625 60.172 60.4896 60.8446 61.2634 61.8447 62.4511 63.1106 63.8693 64.1311 64.3956 64.4285 64.4857 64.5808 64.5904 64.5756 64.5483 64.5191 64.5195 64.5042 64.3914 64.0983 63.959 64.1452 64.341 64.5142 64.688 64.8622 65.0166 65.226 65.4843 65.724 65.8856 65.9471 66.0116 66.0983 66.1833 66.4384 66.3998 66.2116 65.9816 65.7235 65.4606 65.1735 64.8961 64.6172 64.3576 64.1153 63.8675 63.6765]\n",
      "room 3 estimated temperature: [20.0 20.7383 21.8397 23.0911 24.4852 25.9962 27.5598 29.1498 30.6181 31.9048 33.1325 34.2957 35.4821 36.6589 37.7843 38.8871 39.9524 40.9949 41.9818 42.9195 43.8062 45.0088 46.1818 47.3069 48.396 49.4836 50.6086 51.8791 53.1348 54.4284 55.7901 56.5818 57.3482 57.821 58.2733 58.6507 58.9149 59.1365 59.3049 59.4666 59.6507 59.81 59.8592 59.7119 59.8025 60.2288 60.6562 61.0555 61.447 61.8348 62.2098 62.6415 63.111 63.5569 63.9253 64.1842 64.4294 64.674 64.9024 65.2231 65.2111 65.0341 64.793 64.5033 64.219 63.919 63.6337 63.3473 63.0853 62.8373 62.5801 62.3868]\n",
      "room 2 sensor data: [67.4 68.8 70.5 72.1 73.1 72.9 72.3 70.5 68.1 67.2 67.1 67.1 66.9 66.6 66.4 66.1 65.9 65.5 65.2 64.9 67.0 67.1 67.1 67.2 67.6 68.3 70.0 70.6 71.5 72.9 68.8 68.9 66.8 66.9 67.2 66.4 66.1 65.9 65.8 66.0 65.8 64.8 62.9 64.0 66.9 67.1 67.0 67.1 67.2 67.1 67.7 68.3 68.3 67.7 66.8 66.8 67.0 67.0 68.7 66.1 64.6 64.0 63.5 63.2 62.7 62.5 62.2 62.1 62.0 61.7 62.0 62.6]\n",
      "room 2 estimated temperature: [20.0 36.6324 47.5624 52.5289 55.3683 57.1766 58.299 58.9936 59.2899 59.2501 59.1348 59.0562 59.0255 59.0195 59.0254 59.0523 59.0863 59.1359 59.1763 59.2172 59.256 59.5523 59.8625 60.172 60.4896 60.8446 61.2634 61.8447 62.4511 63.1106 63.8693 64.1311 64.3956 64.4285 64.4857 64.5808 64.5904 64.5756 64.5483 64.5191 64.5195 64.5042 64.3914 64.0983 63.959 64.1452 64.341 64.5142 64.688 64.8622 65.0166 65.226 65.4843 65.724 65.8856 65.9471 66.0116 66.0983 66.1833 66.4384 66.3998 66.2116 65.9816 65.7235 65.4606 65.1735 64.8961 64.6172 64.3576 64.1153 63.8675 63.6765]\n",
      "room 1 estimate high bound: [21.5 22.7077 24.295 26.0519 27.9426 29.9177 31.9096 33.8987 35.7018 37.2784 38.7423 40.0101 41.259 42.4614 43.5603 44.6112 45.6085 46.5761 47.4843 48.3354 49.1301 50.2541 51.346 52.3887 53.3925 54.3844 55.4041 56.5304 57.6306 58.7699 59.9431 60.7011 61.4363 61.9361 62.3868 62.6554 62.8328 62.9735 63.0384 63.1034 63.1827 63.2449 63.2333 63.0912 63.2215 63.5804 63.942 64.2928 64.6404 64.9932 65.3617 65.7794 66.2172 66.6468 67.0442 67.3777 67.6918 67.9842 68.2568 68.4789 68.4541 68.3129 68.1031 67.8352 67.5835 67.3342 67.1008 66.8672 66.6555 66.4476 66.2288 66.057]\n",
      "room 1 estimate low bound: [18.5 19.7399 21.3585 23.1467 25.0694 27.0771 29.1026 31.1262 32.9647 34.5772 36.0774 37.3815 38.6663 39.9041 41.0376 42.1218 43.1512 44.1494 45.0866 45.9651 46.7855 47.9335 49.0479 50.1114 51.1345 52.1443 53.1805 54.322 55.4362 56.5883 57.7733 58.5423 59.2874 59.7963 60.2554 60.5317 60.7161 60.8633 60.934 61.0045 61.0888 61.1554 61.148 61.0097 61.1435 61.5056 61.8702 62.2236 62.5737 62.9287 63.2993 63.7189 64.1584 64.5896 64.9885 65.3233 65.6387 65.9322 66.2059 66.4288 66.405 66.2646 66.0555 65.7883 65.5372 65.2885 65.0556 64.8226 64.6113 64.4038 64.1854 64.0139]\n",
      "room 3 estimate low bound: [21.5 22.2547 23.3717 24.6375 26.0445 27.5666 29.1395 30.7368 32.2104 33.5005 34.7297 35.8928 37.0776 38.2515 39.3731 40.4713 41.5313 42.5682 43.5492 44.4809 45.3617 46.5585 47.7258 48.8455 49.9295 51.0122 52.1327 53.399 54.6508 55.9409 57.2993 58.088 58.8517 59.3221 59.7721 60.1475 60.4099 60.6299 60.797 60.9574 61.1404 61.2987 61.347 61.1989 61.2889 61.7146 62.1415 62.5404 62.9315 63.319 63.6938 64.1252 64.5946 65.0404 65.4086 65.6675 65.9126 66.157 66.3855 66.7061 66.6941 66.5171 66.276 65.9864 65.7021 65.4021 65.1169 64.8305 64.5686 64.3207 64.0635 63.8702]\n",
      "room 3 estimate low bound: [18.5 19.2219 20.3077 21.5447 22.9259 24.4257 25.98 27.5628 29.0258 30.3092 31.5353 32.6986 33.8866 35.0662 36.1955 37.303 38.3735 39.4216 40.4144 41.358 42.2507 43.4592 44.6378 45.7683 46.8626 47.955 49.0845 50.3592 51.6188 52.916 54.2809 55.0756 55.8447 56.32 56.7745 57.1539 57.4199 57.643 57.8129 57.9759 58.1611 58.3214 58.3714 58.2249 58.3161 58.743 59.1709 59.5706 59.9624 60.3506 60.7259 61.1577 61.6275 62.0735 62.442 62.701 62.9463 63.1909 63.4194 63.74 63.728 63.551 63.3099 63.0203 62.7359 62.4358 62.1505 61.864 61.602 61.354 61.0968 60.9034]\n",
      "room 2 sensor prediction error: [-47.4 -32.1676 -22.9376 -19.5711 -17.7317 -15.7234 -14.001 -11.5064 -8.81013 -7.94991 -7.96521 -8.04384 -7.87447 -7.58052 -7.37459 -7.04766 -6.81374 -6.36408 -6.02366 -5.68284 -7.74403 -7.54765 -7.23748 -7.02797 -7.1104 -7.45541 -8.73657 -8.7553 -9.04892 -9.78938 -4.93066 -4.76889 -2.40439 -2.47147 -2.71427 -1.81921 -1.50964 -1.32438 -1.25175 -1.48089 -1.28051 -0.295843 1.49139 0.0983265 -2.94101 -2.95485 -2.65903 -2.58576 -2.51196 -2.23776 -2.6834 -3.07397 -2.81572 -1.97605 -0.91442 -0.852924 -0.988406 -0.901671 -2.51666 0.338422 1.7998 2.21159 2.48164 2.52352 2.76063 2.67355 2.69613 2.51721 2.35763 2.41527 1.86751 1.07654]\n"
     ]
    }
   ],
   "source": [
    "# Computational Methods\n",
    "# Term Project: Kalman Filters for Energy Systems\n",
    "# Stefan Deutsch, Viv Pitter, Ansel Klein\n",
    "# Prof. Anthoff\n",
    "# Due 5/12/17\n",
    "\n",
    "# Parameters\n",
    "\n",
    "R1A = 5 # Thermal resistance between Room 1 and ambient, deg C/kW\n",
    "R12 = 3 # Thermal resistance between Room 1 and Room 2, deg C/kW\n",
    "R23 = 3 # Thermal resistance between Room 2 and Room 3, deg C/kW\n",
    "R3A = 5 # Thermal resistance between Room 3 and ambient, deg C/kW\n",
    "C1 = 24  # Thermal capacitance of Room 1, kWh/deg C\n",
    "C2 = 15  # Thermal capacitance of Room 2, kWh/deg C\n",
    "C3 = 48  # Thermal capacitance of Room 3, kWh/deg C\n",
    "P = 8  # Thermal power of heater, kW\n",
    "\n",
    "# State space matrices\n",
    "A = [-1/C1*(1/R1A + 1/R12) 1/(C1*R12) 0; 1/(C2*R12) -1/C2*(1/R12 + 1/R23) 1/(C2*R23); 0 1/(C3*R23) -1/C3*(1/R23 + 1/R3A)]\n",
    "B = [1/(C1*R1A) P/(2*C1); 0 0; 1/(C3*R3A) P/(2*C3)]\n",
    "C = [0 1 0]\n",
    "D = [0 0]\n",
    "\n",
    "# Compute observability Matrix for 3-state system and rank\n",
    "O = [C; C*A; C*A^2]\n",
    "r = rank(O)  # could also do this by inspection?\n",
    "println(\"Rank of the observability matrix is $r.\")\n",
    "\n",
    "# Upload data here\n",
    "\n",
    "# t = time series vector\n",
    "t = collect(1:1:72)'\n",
    "\n",
    "using ExcelReaders\n",
    "tempdata = readxl(\"/Users/vivpitter/Downloads/Building Data for Ansel.xlsx\", \"Raw Data!C2:E73\")\n",
    "\n",
    "# T_A = vector of ambient temperature data\n",
    "T_A = readxl(\"/Users/vivpitter/NOAA Oakland Temp Data.xlsx\", \"Sheet1!G8:G79\")[:,1]\n",
    "T_A = [i for i in T_A]'\n",
    "# s = 0 or 1 depending on whether heater is on or off\n",
    "s = [(i == \"ON\") + 0 for i in tempdata[:,1]]'\n",
    "# T_2 = vector of sensed temperature data in room 2\n",
    "T_2 = tempdata[:,3]\n",
    "T_2 = [i for i in T_2]'\n",
    "\n",
    "u = [T_A; s]  # collect ambient temperature and heater state into input matrix\n",
    "ym = T_2  # temperature of room 2 is state of interest and thus the measured output\n",
    "\n",
    "# x0 = mean initial states (arbitrary)\n",
    "# sig0 = covariance of initial states (arbitrary)\n",
    "\n",
    "# Kalman Filter\n",
    "\n",
    "# Noise covariances\n",
    "W = diagm([.05; .02; .05])  # Covariance of model inaccuracy / process noise  We tune this to our liking.\n",
    "N = 1.5  # Covariance of sensor noise, just an example right now\n",
    "sig0 = 1.5*eye(3) # just an example right now\n",
    "\n",
    "# Estimated Initial Conditions\n",
    "# x_hat0 = x0\n",
    "x_hat0 = [20; 20; 20]  # just an example right now\n",
    "\n",
    "# Simulate Kalman Filter\n",
    "# original equation was [tsim,states] = ode45(@(t,x) ode_kf(t,x,A,B,C,D,input_data,W,N),t,states0) where 'states' combined x and sigma\n",
    "# i.e. [tsim, xsim, sigsim] = our_ode(kalman(x_hat,sig,A,B,C,D,ym,u,W,N), t, x_hat0, sig0)\n",
    "#(x_hat, sig) = Euler(kalman,A,B,C,D,ym,u,W,N,t,x_hat0,sig0)  # using Euler's method right now\n",
    "(x_hat, sig) = kalmanRKF45(kalman,A,B,C,D,ym,u,W,N,t,x_hat0,sig0)\n",
    "\n",
    "# Parse States\n",
    "T1_hat = x_hat[1,:]'\n",
    "T2_hat = x_hat[2,:]'\n",
    "T3_hat = x_hat[3,:]'\n",
    "# Compute the upper and lower bounds on T1 and T3\n",
    "bound1 = zeros(length(t))'\n",
    "bound3 = zeros(length(t))'\n",
    "for k in 1:length(t)\n",
    "    bound1[k] = sig[k][1,1]\n",
    "    bound3[k] = sig[k][3,3]\n",
    "end\n",
    "\n",
    "# Plot results\n",
    "println(\"time series vector: \",t)\n",
    "println(\"heater setting: \",s)\n",
    "println(\"ambient temperature data: \",T_A)\n",
    "println(\"room 1 estimated temperature: \",T1_hat)\n",
    "println(\"room 2 estimated temperature: \",T2_hat)\n",
    "println(\"room 3 estimated temperature: \",T3_hat)\n",
    "# Plot true and estimated T2 versus time\n",
    "println(\"room 2 sensor data: \",T_2)\n",
    "println(\"room 2 estimated temperature: \",T2_hat)\n",
    "# Plot estimated T1 and T3 plus/minus 1 sigma\n",
    "println(\"room 1 estimate high bound: \",T1_hat+bound1)\n",
    "println(\"room 1 estimate low bound: \",T1_hat-bound1)\n",
    "println(\"room 3 estimate low bound: \",T3_hat+bound3)\n",
    "println(\"room 3 estimate low bound: \",T3_hat-bound3)\n",
    "# Plot error between true and estimated T2\n",
    "println(\"room 2 sensor prediction error: \",T2_hat-T_2)\n",
    "\n",
    "# Calculate RMSE between true and estimated T2\n",
    "\n",
    "\n",
    "# Extended Kalman Filter if we so choose\n"
   ]
  },
  {
   "cell_type": "code",
   "execution_count": 1,
   "metadata": {
    "collapsed": false
   },
   "outputs": [
    {
     "data": {
      "text/plain": [
       "kalman (generic function with 1 method)"
      ]
     },
     "execution_count": 1,
     "metadata": {},
     "output_type": "execute_result"
    }
   ],
   "source": [
    "function kalman(x_hat,sig,A,B,C,D,ym,u,W,N)  # kalman filter for a general system\n",
    "\n",
    "    # Compute Kalman Gain\n",
    "    L = sig*C'*inv(N)\n",
    "\n",
    "    # Kalman Filter equations\n",
    "    y_hat = C*x_hat + D*u\n",
    "    x_hat_dot =  A*x_hat + B*u + L*(ym - y_hat)\n",
    "\n",
    "    # Riccati Equation for Sigma\n",
    "    sig_dot = sig*A' + A*sig + W - sig*C'*inv(N)*C*sig\n",
    "\n",
    "    # Return values\n",
    "    return x_hat_dot, sig_dot\n",
    "end"
   ]
  },
  {
   "cell_type": "code",
   "execution_count": 2,
   "metadata": {
    "collapsed": false
   },
   "outputs": [
    {
     "data": {
      "text/plain": [
       "kalmanRKF45 (generic function with 1 method)"
      ]
     },
     "execution_count": 2,
     "metadata": {},
     "output_type": "execute_result"
    }
   ],
   "source": [
    "function kalmanRKF45(kf,A,B,C,D,ym,u,W,N,t,x_hat0,sig0)\n",
    "    x_hat = x_hat_4 = x_hat_5 = zeros(3,length(t))  # vector of corresponding state values\n",
    "    sig = sig_4 = sig_5 = fill(zeros(3,3), 1, length(t))\n",
    "    x_hat[:,1] = x_hat0  # initial values\n",
    "    sig = fill(zeros(3,3), 1, length(t))  # sigma is a vector of 3 by 3 matrices\n",
    "    sig[1] = sig0\n",
    "    f = (x_hat, sig, ym, u) -> kf(x_hat,sig,A,B,C,D,ym,u,W,N)\n",
    "    h = 1. # set later\n",
    "    tol = 2e-5 # set error control tolerance\n",
    "    for i in 2:length(t)\n",
    "        #t[i] = (i-1)*h+x_hat[:,1]\n",
    "        F1 = [h*i for i in f(x_hat[:,i-1],sig[i-1],ym[i-1],u[:,i-1])]\n",
    "        F2 = [h*i for i in f(x_hat[:,i-1]+(1/4)*F1[1],sig[i-1]+(1/4)*F1[2],ym[i-1],u[:,i-1])]\n",
    "        F3 = [h*i for i in f(x_hat[:,i-1]+(3/32)*F1[1]+(9/32)*F2[1],sig[i-1]+(3/32)*F1[2]+(9/32)*F2[2],ym[i-1],u[:,i-1])]\n",
    "        F4 = [h*i for i in f(x_hat[:,i-1]+(1932/2197)*F1[1]-(7200/2197)*F2[1]+(7296/2197)*F3[1],sig[i-1]+(1932/2197)*F1[2]-(7200/2197)*F2[2]+(7296/2197)*F3[2],ym[i-1],u[:,i-1])]\n",
    "        F5 = [h*i for i in f(x_hat[:,i-1]+(439/216)*F1[1]-(8)*F2[1]+(3680/513)*F3[1]-(845/2104)*F4[1],sig[i-1]+(439/216)*F1[2]-(8)*F2[2]+(3680/513)*F3[2]-(845/2104)*F4[2],ym[i-1],u[:,i-1])]\n",
    "        F6 = [h*i for i in f(x_hat[:,i-1]-(8/27)*F1[1]+(2)*F2[1]-(3544/2565)*F3[1]+(1859/4104)*F4[1]-(11/40)*F5[1],sig[i-1]-(8/27)*F1[2]+(2)*F2[2]-(3544/2565)*F3[2]+(1859/4104)*F4[2]-(11/40)*F5[2],ym[i-1],u[:,i-1])]  \n",
    "        \n",
    "        x_hat_4[:,i] = x_hat[:,i-1]+(25/216)*F1[1]+(1408/2565)*F3[1]+(2197/4101)*F4[1]-(1/5)*F5[1]  \n",
    "        sig_4[i] = sig[i-1]+(25/216)*F1[2]+(1408/2565)*F3[2]+(2197/4101)*F4[2]-(1/5)*F5[2]\n",
    "        \n",
    "        x_hat[:,i] = x_hat_5[:,i] = x_hat[:,i-1]+(16/135)*F1[1]+(6656/12825)*F3[1]+(28561/56430)*F4[1]-(9/50)*F5[1]+(2/55)*F6[1]\n",
    "        sig[i] = sig_5[i] = sig[i-1]+(16/135)*F1[2]+(6656/12825)*F3[2]+(28561/56430)*F4[2]-(9/50)*F5[2]+(2/55)*F6[2]\n",
    "        \n",
    "        if sig_5[i]-sig_4[i] == 0.\n",
    "            scalar = ((tol*h)./(2*(sig_5[i]-sig_4[i])))^1/4\n",
    "            println((2*(sig_5[i]-sig_4[i])))\n",
    "            h = scalar*h\n",
    "        end\n",
    "    \n",
    "    end\n",
    "    return x_hat, sig\n",
    "\n",
    "end\n",
    "#write rkf matricies\n",
    "#pick h\n",
    "\n"
   ]
  },
  {
   "cell_type": "code",
   "execution_count": 3,
   "metadata": {
    "collapsed": false
   },
   "outputs": [
    {
     "data": {
      "text/plain": [
       "Euler (generic function with 1 method)"
      ]
     },
     "execution_count": 3,
     "metadata": {},
     "output_type": "execute_result"
    }
   ],
   "source": [
    "function Euler(kf,A,B,C,D,ym,u,W,N,t,x_hat0,sig0)  # Euler's method ODE solver for our system\n",
    "    h = 1  # step size\n",
    "    x_hat = zeros(3,length(t))  # vector of corresponding state values\n",
    "    sig = fill(zeros(3,3), 1, length(t))  # sigma is a vector of 3 by 3 matrices\n",
    "    x_hat[:,1] = x_hat0  # initial values\n",
    "    sig[1] = sig0\n",
    "    for i in 2:length(t)  # euler's method\n",
    "        (x_hat_dot, sig_dot) = kf(x_hat[:,i-1],sig[i-1],A,B,C,D,ym[i-1],u[:,i-1],W,N)  # dx/dt from kalman filter eqn\n",
    "        x_hat[:,i] = x_hat[:,i-1] + h*x_hat_dot  # increment states and sigma values\n",
    "        sig[i] = sig[i-1] + h*sig_dot\n",
    "    end\n",
    "    return x_hat, sig\n",
    "end"
   ]
  }
 ],
 "metadata": {
  "kernelspec": {
   "display_name": "Julia 0.5.0",
   "language": "julia",
   "name": "julia-0.5"
  },
  "language_info": {
   "file_extension": ".jl",
   "mimetype": "application/julia",
   "name": "julia",
   "version": "0.5.0"
  }
 },
 "nbformat": 4,
 "nbformat_minor": 1
}
