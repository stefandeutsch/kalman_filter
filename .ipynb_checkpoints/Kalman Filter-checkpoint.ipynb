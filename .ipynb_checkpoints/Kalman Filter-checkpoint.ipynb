{
 "cells": [
  {
   "cell_type": "code",
   "execution_count": 77,
   "metadata": {
    "collapsed": false
   },
   "outputs": [
    {
     "name": "stdout",
     "output_type": "stream",
     "text": [
      "Rank of the observability matrix is 3.\n"
     ]
    },
    {
     "ename": "LoadError",
     "evalue": "DimensionMismatch(\"dimensions must match\")",
     "output_type": "error",
     "traceback": [
      "DimensionMismatch(\"dimensions must match\")",
      "",
      " in promote_shape(::Tuple{Base.OneTo{Int64},Base.OneTo{Int64}}, ::Tuple{Base.OneTo{Int64}}) at ./operators.jl:411",
      " in promote_shape(::Array{Float64,2}, ::Array{Int64,1}) at ./operators.jl:397",
      " in _elementwise(::Base.#+, ::Type{Float64}, ::Array{Float64,2}, ::Array{Int64,1}) at ./arraymath.jl:57",
      " in kalman(::Float64, ::Array{Float64,2}, ::Array{Float64,2}, ::Array{Float64,2}, ::Array{Int64,2}, ::Array{Int64,2}, ::Int64, ::Array{Int64,1}, ::Array{Float64,2}, ::Float64) at ./In[37]:7",
      " in kalmanRKF45(::#kalman, ::Array{Float64,2}, ::Array{Float64,2}, ::Array{Int64,2}, ::Array{Int64,2}, ::Array{Int64,2}, ::Array{Int64,2}, ::Array{Float64,2}, ::Float64, ::Array{Int64,2}, ::Array{Int64,1}, ::Array{Float64,2}) at ./In[76]:13"
     ]
    }
   ],
   "source": [
    "# Computational Methods\n",
    "# Term Project: Kalman Filters for Energy Systems\n",
    "# Stefan Deutsch, Viv Pitter, Ansel Klein\n",
    "# Prof. Anthoff\n",
    "# Due 5/12/17\n",
    "\n",
    "# Parameters\n",
    "\n",
    "R1A = 5 # Thermal resistance between Room 1 and ambient, deg C/kW\n",
    "R12 = 3 # Thermal resistance between Room 1 and Room 2, deg C/kW\n",
    "R23 = 3 # Thermal resistance between Room 2 and Room 3, deg C/kW\n",
    "R3A = 5 # Thermal resistance between Room 3 and ambient, deg C/kW\n",
    "C1 = 24  # Thermal capacitance of Room 1, kWh/deg C\n",
    "C2 = 15  # Thermal capacitance of Room 2, kWh/deg C\n",
    "C3 = 48  # Thermal capacitance of Room 3, kWh/deg C\n",
    "P = 8  # Thermal power of heater, kW\n",
    "\n",
    "# State space matrices\n",
    "A = [-1/C1*(1/R1A + 1/R12) 1/(C1*R12) 0; 1/(C2*R12) -1/C2*(1/R12 + 1/R23) 1/(C2*R23); 0 1/(C3*R23) -1/C3*(1/R23 + 1/R3A)]\n",
    "B = [1/(C1*R1A) P/(2*C1); 0 0; 1/(C3*R3A) P/(2*C3)]\n",
    "C = [0 1 0]\n",
    "D = [0 0]\n",
    "\n",
    "# Compute observability Matrix for 3-state system and rank\n",
    "O = [C; C*A; C*A^2]\n",
    "r = rank(O)  # could also do this by inspection?\n",
    "println(\"Rank of the observability matrix is $r.\")\n",
    "\n",
    "# Upload data here\n",
    "\n",
    "# t = time series vector\n",
    "t = collect(1:1:10)'\n",
    "# T_A = vector of ambient temperature data\n",
    "T_A = [11 11 11 12 12 12 12 13 12 11]\n",
    "# s = 0 or 1 depending on whether heater is on or off\n",
    "s = [1 1 1 1 0 0 0 0 0 1 ]\n",
    "# T_2 = vector of sensed temperature data in room 2\n",
    "T_2 = [20 21 23 24 23 22 21 20 20 21]\n",
    "\n",
    "u = [T_A; s]  # collect ambient temperature and heater state into input matrix\n",
    "ym = T_2  # temperature of room 2 is state of interest and thus the measured output\n",
    "\n",
    "# x0 = mean initial states (arbitrary)\n",
    "# sig0 = covariance of initial states (arbitrary)\n",
    "\n",
    "# Kalman Filter\n",
    "\n",
    "# Noise covariances\n",
    "W = diagm([.05; .02; .05])  # Covariance of model inaccuracy / process noise  We tune this to our liking.\n",
    "N = 1.5  # Covariance of sensor noise, just an example right now\n",
    "sig0 = 1.5*eye(3) # just an example right now\n",
    "\n",
    "# Estimated Initial Conditions\n",
    "# x_hat0 = x0\n",
    "x_hat0 = [20; 20; 20]  # just an example right now\n",
    "\n",
    "# Simulate Kalman Filter\n",
    "# original equation was [tsim,states] = ode45(@(t,x) ode_kf(t,x,A,B,C,D,input_data,W,N),t,states0) where 'states' combined x and sigma\n",
    "# i.e. [tsim, xsim, sigsim] = our_ode(kalman(x_hat,sig,A,B,C,D,ym,u,W,N), t, x_hat0, sig0)\n",
    "#(x_hat, sig) = Euler(kalman,A,B,C,D,ym,u,W,N,t,x_hat0,sig0)  # using Euler's method right now\n",
    "(x_hat, sig) = kalmanRKF45(kalman,A,B,C,D,ym,u,W,N,t,x_hat0,sig0)\n",
    "\n",
    "# Parse States\n",
    "T1_hat = x_hat[1,:]'\n",
    "T2_hat = x_hat[2,:]'\n",
    "T3_hat = x_hat[3,:]'\n",
    "# Compute the upper and lower bounds on T1 and T3\n",
    "bound1 = zeros(length(t))'\n",
    "bound3 = zeros(length(t))'\n",
    "for k in 1:length(t)\n",
    "    bound1[k] = sig[k][1,1]\n",
    "    bound3[k] = sig[k][3,3]\n",
    "end\n",
    "\n",
    "# Plot results\n",
    "println(\"time series vector: \",t)\n",
    "println(\"heater setting: \",s)\n",
    "println(\"ambient temperature data: \",T_A)\n",
    "println(\"room 1 estimated temperature: \",T1_hat)\n",
    "println(\"room 2 estimated temperature: \",T2_hat)\n",
    "println(\"room 3 estimated temperature: \",T3_hat)\n",
    "# Plot true and estimated T2 versus time\n",
    "println(\"room 2 sensor data: \",T_2)\n",
    "println(\"room 2 estimated temperature: \",T2_hat)\n",
    "# Plot estimated T1 and T3 plus/minus 1 sigma\n",
    "println(\"room 1 estimate high bound: \",T1_hat+bound1)\n",
    "println(\"room 1 estimate low bound: \",T1_hat-bound1)\n",
    "println(\"room 3 estimate low bound: \",T3_hat+bound3)\n",
    "println(\"room 3 estimate low bound: \",T3_hat-bound3)\n",
    "# Plot error between true and estimated T2\n",
    "println(\"room 2 sensor prediction error: \",T2_hat-T_2)\n",
    "\n",
    "# Calculate RMSE between true and estimated T2\n",
    "\n",
    "\n",
    "# Extended Kalman Filter if we so choose\n"
   ]
  },
  {
   "cell_type": "code",
   "execution_count": 133,
   "metadata": {
    "collapsed": false
   },
   "outputs": [
    {
     "name": "stderr",
     "output_type": "stream",
     "text": [
      "WARNING: Method definition kalman(Any, Any, Any, Any, Any, Any, Any, Any, Any, Any) in module Main at In[129]:4 overwritten at In[133]:4.\n"
     ]
    },
    {
     "data": {
      "text/plain": [
       "kalman (generic function with 2 methods)"
      ]
     },
     "execution_count": 133,
     "metadata": {},
     "output_type": "execute_result"
    }
   ],
   "source": [
    "function kalman(x_hat,sig,A,B,C,D,ym,u,W,N)  # kalman filter for a general system\n",
    "\n",
    "    # Compute Kalman Gain\n",
    "    L = sig*C'*inv(N)\n",
    "\n",
    "    # Kalman Filter equations\n",
    "    y_hat = C*x_hat + D*u\n",
    "    x_hat_dot =  A*x_hat + B*u + L*(ym - y_hat)\n",
    "\n",
    "    # Riccati Equation for Sigma\n",
    "    sig_dot = sig*A' + A*sig + W - sig*C'*inv(N)*C*sig\n",
    "\n",
    "    # Return values\n",
    "    return x_hat_dot, sig_dot\n",
    "end"
   ]
  },
  {
   "cell_type": "code",
   "execution_count": 134,
   "metadata": {
    "collapsed": false
   },
   "outputs": [
    {
     "ename": "LoadError",
     "evalue": "syntax: incomplete: \"for\" at In[134]:3 requires end",
     "output_type": "error",
     "traceback": [
      "syntax: incomplete: \"for\" at In[134]:3 requires end",
      ""
     ]
    }
   ],
   "source": [
    "function kalman_series(t,x_hat,sig,A,B,C,D,ym,u,W,N)\n",
    "    \n",
    "    for i in 2:length(t)\n",
    "        kalman(x_hat,sig,A,B,C,D,ym,u,W,N)\n",
    "    "
   ]
  },
  {
   "cell_type": "code",
   "execution_count": 183,
   "metadata": {
    "collapsed": false
   },
   "outputs": [
    {
     "name": "stderr",
     "output_type": "stream",
     "text": [
      "WARNING: Method definition kalmanRKF45(Any, Any, Any, Any, Any, Any, Any, Any, Any, Any, Any, Any) in module Main at In[181]:4 overwritten at In[183]:4.\n"
     ]
    },
    {
     "data": {
      "text/plain": [
       "kalmanRKF45 (generic function with 1 method)"
      ]
     },
     "execution_count": 183,
     "metadata": {},
     "output_type": "execute_result"
    }
   ],
   "source": [
    "#edit initial step size\n",
    "#set new x_hat and sig\n",
    "function kalmanRKF45(kf,A,B,C,D,ym,u,W,N,t,x_hat0,sig0)\n",
    "    x_hat = zeros(3,length(t))  # vector of corresponding state values\n",
    "    x_hat[:,1] = x_hat0  # initial values\n",
    "    sig = fill(zeros(3,3), 1, length(t))  # sigma is a vector of 3 by 3 matrices\n",
    "    sig[1] = sig0\n",
    "    f = (x_hat, sig, ym, u) -> kf(x_hat,sig,A,B,C,D,ym,u,W,N)\n",
    "    h = 1 # set later\n",
    "    tol = 2e-5 # set error control tolerance\n",
    "    for i in 2:length(t)\n",
    "        t[i] = (i-1)*h+x_hat[1]\n",
    "        F1 = h*f(x_hat[:,i-1],sig[i-1],ym[i-1],u[:,i-1])\n",
    "        return F1\n",
    "\n",
    "        F2 = h*f(x_hat[:,i-1]+(1/4)*F1,sig[i-1],ym[i-1],u[:,i-1])\n",
    "        F3 = h*f(x_hat[i-1]+(3/32)*F1+(9/32)*F2,sig[i-1],ym[i-1],u[:,i-1])\n",
    "        F4 = h*f(x_hat[i-1]+(1932/2197)*F1-(7200/2197)*F2+(7296/2197)*F3,sig[i-1],ym[i-1],u[:,i-1])\n",
    "        F5 = h*f(x_hat[i-1]+(439/216)*F1-(8)*F2+(3680/513)*F3-(845/2104)*F4,sig[i-1],ym[i-1],u[:,i-1])\n",
    "        F6 = h*f(x_hat[i-1]-(8/27)*F1+(2)*F2-(3544/2565)*F3+(1859/4104)*F4-(11/40)*F5,sig[i-1],ym[i-1],u[:,i-1])\n",
    "        \n",
    "        (x_hat_4[i],sig_4[i]) = (x_hat[i-1],sig[i-1])+(25/216)*F1+(1408/2565)*F3+(2197/4101)*F4-(1/5)*F5\n",
    "        (x_hat_5[i],sig_5[i]) = (x_hat[i-1],sig[i-1])+(16/135)*F1+(6656/12825)*F3+(28561/56430)*F4-(9/50)*F5+(2/55)*F6\n",
    "        (x_hat[i],sig[i]) = (x_hat_5[i],sig_5[i])\n",
    "        \n",
    "        scalar = ((tol*h)/(2*(sig_5[i]-sig_4[i])))^1/4\n",
    "        h = scalar*h\n",
    "    end\n",
    "    return x_hat, sig\n",
    "\n",
    "end\n",
    "\n",
    "#kf(x_hat,sig,A,B,C,D,ym[i-1],u[:,i-1],W,N)"
   ]
  },
  {
   "cell_type": "code",
   "execution_count": 184,
   "metadata": {
    "collapsed": false
   },
   "outputs": [
    {
     "ename": "LoadError",
     "evalue": "MethodError: no method matching *(::Int64, ::Tuple{Array{Float64,1},Array{Float64,2}})\u001b[0m\nClosest candidates are:\n  *(::Any, ::Any, \u001b[1m\u001b[31m::Any\u001b[0m, \u001b[1m\u001b[31m::Any...\u001b[0m) at operators.jl:138\n  *{T<:Union{Int128,Int16,Int32,Int64,Int8,UInt128,UInt16,UInt32,UInt64,UInt8}}(::T<:Union{Int128,Int16,Int32,Int64,Int8,UInt128,UInt16,UInt32,UInt64,UInt8}, \u001b[1m\u001b[31m::T<:Union{Int128,Int16,Int32,Int64,Int8,UInt128,UInt16,UInt32,UInt64,UInt8}\u001b[0m) at int.jl:33\n  *(::Real, \u001b[1m\u001b[31m::Complex{Bool}\u001b[0m) at complex.jl:158\n  ...\u001b[0m",
     "output_type": "error",
     "traceback": [
      "MethodError: no method matching *(::Int64, ::Tuple{Array{Float64,1},Array{Float64,2}})\u001b[0m\nClosest candidates are:\n  *(::Any, ::Any, \u001b[1m\u001b[31m::Any\u001b[0m, \u001b[1m\u001b[31m::Any...\u001b[0m) at operators.jl:138\n  *{T<:Union{Int128,Int16,Int32,Int64,Int8,UInt128,UInt16,UInt32,UInt64,UInt8}}(::T<:Union{Int128,Int16,Int32,Int64,Int8,UInt128,UInt16,UInt32,UInt64,UInt8}, \u001b[1m\u001b[31m::T<:Union{Int128,Int16,Int32,Int64,Int8,UInt128,UInt16,UInt32,UInt64,UInt8}\u001b[0m) at int.jl:33\n  *(::Real, \u001b[1m\u001b[31m::Complex{Bool}\u001b[0m) at complex.jl:158\n  ...\u001b[0m",
      "",
      " in kalmanRKF45(::#kalman, ::Array{Float64,2}, ::Array{Float64,2}, ::Array{Int64,2}, ::Array{Int64,2}, ::Array{Int64,2}, ::Array{Int64,2}, ::Array{Float64,2}, ::Float64, ::Array{Int64,2}, ::Array{Int64,1}, ::Array{Float64,2}) at ./In[183]:13"
     ]
    }
   ],
   "source": [
    "kalmanRKF45(kalman,A,B,C,D,ym,u,W,N,t,x_hat0,sig0)"
   ]
  },
  {
   "cell_type": "code",
   "execution_count": 141,
   "metadata": {
    "collapsed": false
   },
   "outputs": [
    {
     "name": "stderr",
     "output_type": "stream",
     "text": [
      "WARNING: Method definition Euler(Any, Any, Any, Any, Any, Any, Any, Any, Any, Any, Any, Any) in module Main at In[124]:2 overwritten at In[141]:2.\n"
     ]
    },
    {
     "data": {
      "text/plain": [
       "Euler (generic function with 1 method)"
      ]
     },
     "execution_count": 141,
     "metadata": {},
     "output_type": "execute_result"
    }
   ],
   "source": [
    "function Euler(kf,A,B,C,D,ym,u,W,N,t,x_hat0,sig0)  # Euler's method ODE solver for our system\n",
    "    h = 1  # step size\n",
    "    x_hat = zeros(3,length(t))  # vector of corresponding state values\n",
    "    sig = fill(zeros(3,3), 1, length(t))  # sigma is a vector of 3 by 3 matrices\n",
    "    x_hat[:,1] = x_hat0  # initial values\n",
    "    sig[1] = sig0\n",
    "    for i in 2:length(t)  # euler's method\n",
    "        (x_hat_dot, sig_dot) = kf(x_hat[:,i-1],sig[i-1],A,B,C,D,ym[i-1],u[:,i-1],W,N)  # dx/dt from kalman filter eqn\n",
    "        x_hat[:,i] = x_hat[:,i-1] + h*x_hat_dot  # increment states and sigma values\n",
    "        sig[i] = sig[i-1] + h*sig_dot\n",
    "    end\n",
    "    return x_hat, sig\n",
    "end"
   ]
  },
  {
   "cell_type": "code",
   "execution_count": 138,
   "metadata": {
    "collapsed": false
   },
   "outputs": [
    {
     "data": {
      "text/plain": [
       "(\n",
       "[20.0 20.0917 … 21.2963 21.215; 20.0 20.0 … 19.8853 19.9558; 20.0 20.0458 … 21.2891 21.2578],\n",
       "\n",
       "Array{Float64,2}[[1.5 0.0 0.0; 0.0 1.5 0.0; 0.0 0.0 1.5] [1.48333 0.0541667 0.0; 0.0541667 -0.113333 0.04375; 0.0 0.04375 1.51667] … [1.31833 0.206068 -0.0764581; 0.206068 0.103723 0.223885; -0.0764581 0.223885 1.53725] [1.28716 0.207119 -0.100126; 0.207119 0.12644 0.229148; -0.100126 0.229148 1.52279]])"
      ]
     },
     "execution_count": 138,
     "metadata": {},
     "output_type": "execute_result"
    }
   ],
   "source": [
    "Euler(kalman,A,B,C,D,ym,u,W,N,t,x_hat0,sig0)"
   ]
  },
  {
   "cell_type": "code",
   "execution_count": 186,
   "metadata": {
    "collapsed": false
   },
   "outputs": [
    {
     "ename": "LoadError",
     "evalue": "MethodError: no method matching .*(::Int64, ::Tuple{Array{Float64,1},Array{Float64,2}})\u001b[0m\nClosest candidates are:\n  .*(::Real, \u001b[1m\u001b[31m::OrdinalRange{T,S}\u001b[0m) at range.jl:724\n  .*(::Real, \u001b[1m\u001b[31m::FloatRange{T<:AbstractFloat}\u001b[0m) at range.jl:725\n  .*(::Real, \u001b[1m\u001b[31m::LinSpace{T<:AbstractFloat}\u001b[0m) at range.jl:726\n  ...\u001b[0m",
     "output_type": "error",
     "traceback": [
      "MethodError: no method matching .*(::Int64, ::Tuple{Array{Float64,1},Array{Float64,2}})\u001b[0m\nClosest candidates are:\n  .*(::Real, \u001b[1m\u001b[31m::OrdinalRange{T,S}\u001b[0m) at range.jl:724\n  .*(::Real, \u001b[1m\u001b[31m::FloatRange{T<:AbstractFloat}\u001b[0m) at range.jl:725\n  .*(::Real, \u001b[1m\u001b[31m::LinSpace{T<:AbstractFloat}\u001b[0m) at range.jl:726\n  ...\u001b[0m",
      "",
      " in macro expansion; at ./In[186]:11 [inlined]",
      " in anonymous at ./<missing>:?"
     ]
    }
   ],
   "source": [
    "x_hat = zeros(3,length(t))  # vector of corresponding state values\n",
    "x_hat[:,1] = x_hat0\n",
    "sig = fill(zeros(3,3), 1, length(t))  # sigma is a vector of 3 by 3 matrices\n",
    "sig[1] = sig0\n",
    "kf = kalman\n",
    "f = (x_hat, sig, ym, u) -> kf(x_hat,sig,A,B,C,D,ym,u,W,N)\n",
    "h = 1 # set later\n",
    "tol = 2e-5 # set error control tolerance\n",
    "for i = 2:3\n",
    "    t[i] = (i-1)*h+x_hat[1]\n",
    "    F1 = *f(x_hat[:,i-1],sig[i-1],ym[i-1],u[:,i-1])\n",
    "    return F1\n",
    "end"
   ]
  },
  {
   "cell_type": "code",
   "execution_count": null,
   "metadata": {
    "collapsed": true
   },
   "outputs": [],
   "source": []
  },
  {
   "cell_type": "code",
   "execution_count": null,
   "metadata": {
    "collapsed": true
   },
   "outputs": [],
   "source": []
  }
 ],
 "metadata": {
  "kernelspec": {
   "display_name": "Julia 0.5.0",
   "language": "julia",
   "name": "julia-0.5"
  },
  "language_info": {
   "file_extension": ".jl",
   "mimetype": "application/julia",
   "name": "julia",
   "version": "0.5.0"
  }
 },
 "nbformat": 4,
 "nbformat_minor": 1
}
